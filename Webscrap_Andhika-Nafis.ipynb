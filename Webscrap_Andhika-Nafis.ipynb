{
 "cells": [
  {
   "cell_type": "markdown",
   "metadata": {},
   "source": [
    "=================================================\n",
    "\n",
    "Webscraping Tokopedia: A Deep Dive into the Seblak Market Landscape\n",
    "\n",
    "By Andhika Abdurachim Nafis\n",
    "\n",
    "================================================="
   ]
  },
  {
   "cell_type": "markdown",
   "metadata": {},
   "source": [
    "## A. Web Scraping"
   ]
  },
  {
   "cell_type": "code",
   "execution_count": 1,
   "metadata": {},
   "outputs": [
    {
     "name": "stdout",
     "output_type": "stream",
     "text": [
      "Collecting bs4\n",
      "  Using cached bs4-0.0.1-py3-none-any.whl\n",
      "Collecting beautifulsoup4 (from bs4)\n",
      "  Using cached beautifulsoup4-4.12.2-py3-none-any.whl (142 kB)\n",
      "Collecting soupsieve>1.2 (from beautifulsoup4->bs4)\n",
      "  Using cached soupsieve-2.4.1-py3-none-any.whl (36 kB)\n",
      "Installing collected packages: soupsieve, beautifulsoup4, bs4\n",
      "Successfully installed beautifulsoup4-4.12.2 bs4-0.0.1 soupsieve-2.4.1\n",
      "Collecting requests\n",
      "  Obtaining dependency information for requests from https://files.pythonhosted.org/packages/70/8e/0e2d847013cb52cd35b38c009bb167a1a26b2ce6cd6965bf26b47bc0bf44/requests-2.31.0-py3-none-any.whl.metadata\n",
      "  Downloading requests-2.31.0-py3-none-any.whl.metadata (4.6 kB)\n",
      "Collecting charset-normalizer<4,>=2 (from requests)\n",
      "  Obtaining dependency information for charset-normalizer<4,>=2 from https://files.pythonhosted.org/packages/91/6e/db0e545302bf93b6dbbdc496dd192c7f8e8c3bb1584acba069256d8b51d4/charset_normalizer-3.2.0-cp311-cp311-win_amd64.whl.metadata\n",
      "  Downloading charset_normalizer-3.2.0-cp311-cp311-win_amd64.whl.metadata (31 kB)\n",
      "Collecting idna<4,>=2.5 (from requests)\n",
      "  Downloading idna-3.4-py3-none-any.whl (61 kB)\n",
      "     ---------------------------------------- 61.5/61.5 kB 1.7 MB/s eta 0:00:00\n",
      "Collecting urllib3<3,>=1.21.1 (from requests)\n",
      "  Obtaining dependency information for urllib3<3,>=1.21.1 from https://files.pythonhosted.org/packages/9b/81/62fd61001fa4b9d0df6e31d47ff49cfa9de4af03adecf339c7bc30656b37/urllib3-2.0.4-py3-none-any.whl.metadata\n",
      "  Downloading urllib3-2.0.4-py3-none-any.whl.metadata (6.6 kB)\n",
      "Collecting certifi>=2017.4.17 (from requests)\n",
      "  Obtaining dependency information for certifi>=2017.4.17 from https://files.pythonhosted.org/packages/4c/dd/2234eab22353ffc7d94e8d13177aaa050113286e93e7b40eae01fbf7c3d9/certifi-2023.7.22-py3-none-any.whl.metadata\n",
      "  Downloading certifi-2023.7.22-py3-none-any.whl.metadata (2.2 kB)\n",
      "Downloading requests-2.31.0-py3-none-any.whl (62 kB)\n",
      "   ---------------------------------------- 62.6/62.6 kB ? eta 0:00:00\n",
      "Downloading certifi-2023.7.22-py3-none-any.whl (158 kB)\n",
      "   ---------------------------------------- 158.3/158.3 kB 4.8 MB/s eta 0:00:00\n",
      "Downloading charset_normalizer-3.2.0-cp311-cp311-win_amd64.whl (96 kB)\n",
      "   ---------------------------------------- 96.6/96.6 kB ? eta 0:00:00\n",
      "Downloading urllib3-2.0.4-py3-none-any.whl (123 kB)\n",
      "   ---------------------------------------- 123.9/123.9 kB 7.6 MB/s eta 0:00:00\n",
      "Installing collected packages: urllib3, idna, charset-normalizer, certifi, requests\n",
      "Successfully installed certifi-2023.7.22 charset-normalizer-3.2.0 idna-3.4 requests-2.31.0 urllib3-2.0.4\n",
      "Collecting selenium\n",
      "  Obtaining dependency information for selenium from https://files.pythonhosted.org/packages/10/56/8288d1813a68c1e0638515dbb777fce6d87d0d240e683216f956145310e6/selenium-4.11.2-py3-none-any.whl.metadata\n",
      "  Downloading selenium-4.11.2-py3-none-any.whl.metadata (7.0 kB)\n",
      "Requirement already satisfied: urllib3[socks]<3,>=1.26 in c:\\users\\user\\miniconda3\\envs\\hacktiv8\\lib\\site-packages (from selenium) (2.0.4)\n",
      "Collecting trio~=0.17 (from selenium)\n",
      "  Obtaining dependency information for trio~=0.17 from https://files.pythonhosted.org/packages/a3/dd/b61fa61b186d3267ef3903048fbee29132963ae762fb70b08d4a3cd6f7aa/trio-0.22.2-py3-none-any.whl.metadata\n",
      "  Downloading trio-0.22.2-py3-none-any.whl.metadata (4.7 kB)\n",
      "Collecting trio-websocket~=0.9 (from selenium)\n",
      "  Obtaining dependency information for trio-websocket~=0.9 from https://files.pythonhosted.org/packages/a5/a6/06e2373f95c12e9e8f6b910a76c86e375348ead77ab476230640666310fb/trio_websocket-0.10.3-py3-none-any.whl.metadata\n",
      "  Downloading trio_websocket-0.10.3-py3-none-any.whl.metadata (4.6 kB)\n",
      "Requirement already satisfied: certifi>=2021.10.8 in c:\\users\\user\\miniconda3\\envs\\hacktiv8\\lib\\site-packages (from selenium) (2023.7.22)\n",
      "Collecting attrs>=20.1.0 (from trio~=0.17->selenium)\n",
      "  Using cached attrs-23.1.0-py3-none-any.whl (61 kB)\n",
      "Collecting sortedcontainers (from trio~=0.17->selenium)\n",
      "  Using cached sortedcontainers-2.4.0-py2.py3-none-any.whl (29 kB)\n",
      "Requirement already satisfied: idna in c:\\users\\user\\miniconda3\\envs\\hacktiv8\\lib\\site-packages (from trio~=0.17->selenium) (3.4)\n",
      "Collecting outcome (from trio~=0.17->selenium)\n",
      "  Using cached outcome-1.2.0-py2.py3-none-any.whl (9.7 kB)\n",
      "Collecting sniffio (from trio~=0.17->selenium)\n",
      "  Using cached sniffio-1.3.0-py3-none-any.whl (10 kB)\n",
      "Collecting cffi>=1.14 (from trio~=0.17->selenium)\n",
      "  Downloading cffi-1.15.1-cp311-cp311-win_amd64.whl (179 kB)\n",
      "     -------------------------------------- 179.0/179.0 kB 2.2 MB/s eta 0:00:00\n",
      "Collecting exceptiongroup (from trio-websocket~=0.9->selenium)\n",
      "  Obtaining dependency information for exceptiongroup from https://files.pythonhosted.org/packages/fe/17/f43b7c9ccf399d72038042ee72785c305f6c6fdc6231942f8ab99d995742/exceptiongroup-1.1.2-py3-none-any.whl.metadata\n",
      "  Downloading exceptiongroup-1.1.2-py3-none-any.whl.metadata (6.1 kB)\n",
      "Collecting wsproto>=0.14 (from trio-websocket~=0.9->selenium)\n",
      "  Using cached wsproto-1.2.0-py3-none-any.whl (24 kB)\n",
      "Collecting pysocks!=1.5.7,<2.0,>=1.5.6 (from urllib3[socks]<3,>=1.26->selenium)\n",
      "  Downloading PySocks-1.7.1-py3-none-any.whl (16 kB)\n",
      "Collecting pycparser (from cffi>=1.14->trio~=0.17->selenium)\n",
      "  Downloading pycparser-2.21-py2.py3-none-any.whl (118 kB)\n",
      "     -------------------------------------- 118.7/118.7 kB 6.8 MB/s eta 0:00:00\n",
      "Collecting h11<1,>=0.9.0 (from wsproto>=0.14->trio-websocket~=0.9->selenium)\n",
      "  Using cached h11-0.14.0-py3-none-any.whl (58 kB)\n",
      "Using cached selenium-4.11.2-py3-none-any.whl (7.2 MB)\n",
      "Using cached trio-0.22.2-py3-none-any.whl (400 kB)\n",
      "Using cached trio_websocket-0.10.3-py3-none-any.whl (17 kB)\n",
      "Using cached exceptiongroup-1.1.2-py3-none-any.whl (14 kB)\n",
      "Installing collected packages: sortedcontainers, sniffio, pysocks, pycparser, h11, exceptiongroup, attrs, wsproto, outcome, cffi, trio, trio-websocket, selenium\n",
      "Successfully installed attrs-23.1.0 cffi-1.15.1 exceptiongroup-1.1.2 h11-0.14.0 outcome-1.2.0 pycparser-2.21 pysocks-1.7.1 selenium-4.11.2 sniffio-1.3.0 sortedcontainers-2.4.0 trio-0.22.2 trio-websocket-0.10.3 wsproto-1.2.0\n"
     ]
    }
   ],
   "source": [
    "!pip install bs4\n",
    "!pip install requests\n",
    "!pip install selenium"
   ]
  },
  {
   "cell_type": "code",
   "execution_count": 2,
   "metadata": {},
   "outputs": [],
   "source": [
    "#import requests\n",
    "#page = requests.get(\"https://www.tokopedia.com/search?navsource=&page=1&q=seblak&srp_component_id=02.01.00.00&srp_page_id=&srp_page_title=&st=\")\n",
    "#page"
   ]
  },
  {
   "cell_type": "code",
   "execution_count": 2,
   "metadata": {},
   "outputs": [
    {
     "name": "stdout",
     "output_type": "stream",
     "text": [
      "<html lang=\"id\" translate=\"no\">\n",
      " <head>\n",
      "  <title data-rh=\"true\">\n",
      "   Jual seblak | Tokopedia\n",
      "  </title>\n",
      "  <meta charset=\"utf-8\"/>\n",
      "  <meta content=\"initial-scale=1, minimum-scale=1, maximum-scale=5, user-scalable=yes, width=device-width\" name=\"viewport\"/>\n",
      "  <link crossorigin=\"\" href=\"https://assets.tokopedia.net\" rel=\"preconnect\"/>\n",
      "  <link href=\"https://assets.tokopedia.net\" nonce=\"\" rel=\"dns-prefetch\"/>\n",
      "  <link crossorigin=\"\" href=\"https://gql.tokopedia.com\" rel=\"preconnect\"/>\n",
      "  <link href=\"https://gql.tokopedia.com\" nonce=\"\" rel=\"dns-prefetch\"/>\n",
      "  <link crossorigin=\"\" href=\"https://googleads.g.doubleclick.net\" rel=\"preconnect\"/>\n",
      "  <link href=\"https://googleads.g.doubleclick.net\" nonce=\"\" rel\n"
     ]
    }
   ],
   "source": [
    "from bs4 import BeautifulSoup\n",
    "from selenium import webdriver\n",
    "from time import sleep\n",
    "\n",
    "driver = webdriver.Chrome()\n",
    "sleep(5) # Menentukan waktu untuk program mengumpulkan data, disini saya tentukan 5 detik itu waktu yang cukup\n",
    "url=\"https://www.tokopedia.com/search?navsource=&page=1&q=seblak&srp_component_id=02.01.00.00&srp_page_id=&srp_page_title=&st=\"\n",
    "driver.get(url)\n",
    "html = driver.page_source\n",
    "\n",
    "soup = BeautifulSoup(html, \"html.parser\") #Menentukan parser HTML yang ingin kita gunakan.\n",
    "print(soup.prettify()[:700]) # memberikan representasi visual dari pohon parse yang dibuat dari konten HTML mentah."
   ]
  },
  {
   "cell_type": "code",
   "execution_count": 4,
   "metadata": {},
   "outputs": [
    {
     "data": {
      "text/plain": [
       "[<div class=\"prd_link-product-name css-3um8ox\" data-testid=\"linkProductName\">Paket Happy (Seblak Original, Batagor Kuah, Bacil)</div>,\n",
       " <div class=\"prd_link-product-name css-3um8ox\" data-testid=\"linkProductName\">Paket k.y.l (3 Seblak Original 2 Batagor kuah) Kylafood</div>,\n",
       " <div class=\"prd_link-product-name css-3um8ox\" data-testid=\"linkProductName\">PAKET HEMAT (2 Seblak original - Seblak Karuhun - Cireng Bumbu Rujak)</div>,\n",
       " <div class=\"prd_link-product-name css-3um8ox\" data-testid=\"spnSRPProdName\">seblak instant sajodo snak</div>,\n",
       " <div class=\"prd_link-product-name css-3um8ox\" data-testid=\"spnSRPProdName\">Seblak Instan Pedas Home Made</div>,\n",
       " <div class=\"prd_link-product-name css-3um8ox\" data-testid=\"spnSRPProdName\">Mommy Seblak Basah Instant 100gr</div>,\n",
       " <div class=\"prd_link-product-name css-3um8ox\" data-testid=\"spnSRPProdName\">SEBLAK INSTANT TERMURAH</div>,\n",
       " <div class=\"prd_link-product-name css-3um8ox\" data-testid=\"spnSRPProdName\">SEBLAK VIRAL - SEBLAK INSTANT - SEBLAK RAFAEL - SEBLAK MAMANG RAFAEL</div>,\n",
       " <div class=\"prd_link-product-name css-3um8ox\" data-testid=\"spnSRPProdName\">SEBRING KRUPUK KERUPUK SEBLAK KERING PEDAS DAUN JERUK 1KG CABE ASLI</div>,\n",
       " <div class=\"prd_link-product-name css-3um8ox\" data-testid=\"spnSRPProdName\">kerupuk seblak kencur / kerupuk seblak kering - 250gram</div>,\n",
       " <div class=\"prd_link-product-name css-3um8ox\" data-testid=\"spnSRPProdName\">siomay kering bandung 500 gr. untuk baso aci, seblak ,mie ayam dll</div>,\n",
       " <div class=\"prd_link-product-name css-3um8ox\" data-testid=\"spnSRPProdName\">seblak kering pedas 250 gr/seblak kencur/kerupuk seblak,enak dan gurih</div>,\n",
       " <div class=\"prd_link-product-name css-3um8ox\" data-testid=\"spnSRPProdName\">Cipet somay kering segitiga isi 20 pcs toping seblak baso Aci cuanki</div>,\n",
       " <div class=\"prd_link-product-name css-3um8ox\" data-testid=\"spnSRPProdName\">seblak instant sajodo snak</div>,\n",
       " <div class=\"prd_link-product-name css-3um8ox\" data-testid=\"spnSRPProdName\">Seblak Instan Pedas Home Made</div>,\n",
       " <div class=\"prd_link-product-name css-3um8ox\" data-testid=\"spnSRPProdName\">Mommy Seblak Basah Instant 100gr</div>,\n",
       " <div class=\"prd_link-product-name css-3um8ox\" data-testid=\"spnSRPProdName\">SEBLAK INSTANT TERMURAH</div>,\n",
       " <div class=\"prd_link-product-name css-3um8ox\" data-testid=\"spnSRPProdName\">Seblak/Cuanki/Baso aci/Batagor kuah (instan) 1porsi. toping lengkap</div>,\n",
       " <div class=\"prd_link-product-name css-3um8ox\" data-testid=\"spnSRPProdName\">Seblak ala Kang Rafael | Seblak Viral | Seblak Cobek</div>,\n",
       " <div class=\"prd_link-product-name css-3um8ox\" data-testid=\"spnSRPProdName\">SEBLAK VIRAL - SEBLAK INSTANT - SEBLAK RAFAEL - SEBLAK MAMANG RAFAEL</div>,\n",
       " <div class=\"prd_link-product-name css-3um8ox\" data-testid=\"spnSRPProdName\">kerupuk seblak rafael 500gram</div>,\n",
       " <div class=\"prd_link-product-name css-3um8ox\" data-testid=\"spnSRPProdName\">Kerupuk Aci Mawar | Kerupuk Mawar Putih | Seblak Rafael Viral | 250gr</div>,\n",
       " <div class=\"prd_link-product-name css-3um8ox\" data-testid=\"spnSRPProdName\">KERUPUK SEBLAK VIRAL RAFAEL BUNGA PUTIH 500 GR</div>,\n",
       " <div class=\"prd_link-product-name css-3um8ox\" data-testid=\"spnSRPProdName\">Seblak Instan Pedas Home Made</div>,\n",
       " <div class=\"prd_link-product-name css-3um8ox\" data-testid=\"spnSRPProdName\">Seblak Basranger Extra Pedas 200gr</div>,\n",
       " <div class=\"prd_link-product-name css-3um8ox\" data-testid=\"spnSRPProdName\">Seblak pedas kerupuk pedas kiloan 1 kg</div>,\n",
       " <div class=\"prd_link-product-name css-3um8ox\" data-testid=\"spnSRPProdName\">Seblak Instan Komplit Pedas Gurih Nikmat</div>,\n",
       " <div class=\"prd_link-product-name css-3um8ox\" data-testid=\"spnSRPProdName\">SEBRING KRUPUK KERUPUK SEBLAK KERING PEDAS DAUN JERUK 1KG CABE ASLI</div>]"
      ]
     },
     "execution_count": 4,
     "metadata": {},
     "output_type": "execute_result"
    }
   ],
   "source": [
    "soup.find_all('div', {\"class\":\"prd_link-product-name css-3um8ox\"})"
   ]
  },
  {
   "cell_type": "code",
   "execution_count": 5,
   "metadata": {},
   "outputs": [
    {
     "name": "stdout",
     "output_type": "stream",
     "text": [
      "Paket Happy (Seblak Original, Batagor Kuah, Bacil)\n",
      "Paket k.y.l (3 Seblak Original 2 Batagor kuah) Kylafood\n",
      "PAKET HEMAT (2 Seblak original - Seblak Karuhun - Cireng Bumbu Rujak)\n",
      "seblak instant sajodo snak\n",
      "Seblak Instan Pedas Home Made\n",
      "Mommy Seblak Basah Instant 100gr\n",
      "SEBLAK INSTANT TERMURAH\n",
      "SEBLAK VIRAL - SEBLAK INSTANT - SEBLAK RAFAEL - SEBLAK MAMANG RAFAEL\n",
      "SEBRING KRUPUK KERUPUK SEBLAK KERING PEDAS DAUN JERUK 1KG CABE ASLI\n",
      "kerupuk seblak kencur / kerupuk seblak kering - 250gram\n",
      "siomay kering bandung 500 gr. untuk baso aci, seblak ,mie ayam dll\n",
      "seblak kering pedas 250 gr/seblak kencur/kerupuk seblak,enak dan gurih\n",
      "Cipet somay kering segitiga isi 20 pcs toping seblak baso Aci cuanki\n",
      "seblak instant sajodo snak\n",
      "Seblak Instan Pedas Home Made\n",
      "Mommy Seblak Basah Instant 100gr\n",
      "SEBLAK INSTANT TERMURAH\n",
      "Seblak/Cuanki/Baso aci/Batagor kuah (instan) 1porsi. toping lengkap\n",
      "Seblak ala Kang Rafael | Seblak Viral | Seblak Cobek\n",
      "SEBLAK VIRAL - SEBLAK INSTANT - SEBLAK RAFAEL - SEBLAK MAMANG RAFAEL\n",
      "kerupuk seblak rafael 500gram\n",
      "Kerupuk Aci Mawar | Kerupuk Mawar Putih | Seblak Rafael Viral | 250gr\n",
      "KERUPUK SEBLAK VIRAL RAFAEL BUNGA PUTIH 500 GR\n",
      "Seblak Instan Pedas Home Made\n",
      "Seblak Basranger Extra Pedas 200gr\n",
      "Seblak pedas kerupuk pedas kiloan 1 kg\n",
      "Seblak Instan Komplit Pedas Gurih Nikmat\n",
      "SEBRING KRUPUK KERUPUK SEBLAK KERING PEDAS DAUN JERUK 1KG CABE ASLI\n"
     ]
    }
   ],
   "source": [
    "for div_tag in soup.find_all('div', {\"class\":\"prd_link-product-name css-3um8ox\"}):\n",
    "    print(div_tag.get_text())"
   ]
  },
  {
   "cell_type": "code",
   "execution_count": 6,
   "metadata": {},
   "outputs": [],
   "source": [
    "import pandas as pd"
   ]
  },
  {
   "cell_type": "code",
   "execution_count": 7,
   "metadata": {},
   "outputs": [],
   "source": [
    "import numpy as np\n",
    "from time import sleep\n",
    "\n",
    "data_list = []\n",
    "\n",
    "for i in range(1,11):\n",
    "    url=\"https://www.tokopedia.com/search?navsource=&page={}&q=seblak&srp_component_id=02.01.00.00&srp_page_id=&srp_page_title=&st=\".format(i)\n",
    "    driver.get(url)\n",
    "\n",
    "    html = driver.page_source\n",
    "    soup = BeautifulSoup(html, \"html.parser\")\n",
    "\n",
    "    sleep(5)\n",
    "\n",
    "    for tag in soup.find_all('div', {\"class\": \"css-974ipl\"}):\n",
    "        data_row = {\n",
    "            'nama_produk': tag.find('div', {\"class\":\"prd_link-product-name css-3um8ox\"}).get_text() if tag.find('div', {\"class\":\"prd_link-product-name css-3um8ox\"}) else None,\n",
    "            'harga': tag.find('div', {\"class\":\"prd_link-product-price css-1ksb19c\"}).get_text() if tag.find('div', {\"class\":\"prd_link-product-price css-1ksb19c\"}) else None,\n",
    "            'penjual': tag.find('span', {\"class\": \"prd_link-shop-name css-1kdc32b flip\"}).get_text() if tag.find('span', {\"class\": \"prd_link-shop-name css-1kdc32b flip\"}) else None,\n",
    "            'lokasi': tag.find('span', {\"class\": \"prd_link-shop-loc css-1kdc32b flip\"}).get_text() if tag.find('span', {\"class\": \"prd_link-shop-loc css-1kdc32b flip\"}) else None,\n",
    "            'terjual': tag.find('span', {\"class\": \"prd_label-integrity css-1duhs3e\"}).get_text() if tag.find('span', {\"class\": \"prd_label-integrity css-1duhs3e\"}) else None,\n",
    "            'rating': tag.find('span', {\"class\": \"prd_rating-average-text css-t70v7i\"}).get_text() if tag.find('span', {\"prd_rating-average-text css-t70v7i\"}) else None\n",
    "        }\n",
    "        data_list.append(data_row)\n",
    "\n",
    "seblak_tokped = pd.DataFrame(data_list)\n"
   ]
  },
  {
   "cell_type": "code",
   "execution_count": 8,
   "metadata": {},
   "outputs": [
    {
     "data": {
      "text/html": [
       "<div>\n",
       "<style scoped>\n",
       "    .dataframe tbody tr th:only-of-type {\n",
       "        vertical-align: middle;\n",
       "    }\n",
       "\n",
       "    .dataframe tbody tr th {\n",
       "        vertical-align: top;\n",
       "    }\n",
       "\n",
       "    .dataframe thead th {\n",
       "        text-align: right;\n",
       "    }\n",
       "</style>\n",
       "<table border=\"1\" class=\"dataframe\">\n",
       "  <thead>\n",
       "    <tr style=\"text-align: right;\">\n",
       "      <th></th>\n",
       "      <th>nama_produk</th>\n",
       "      <th>harga</th>\n",
       "      <th>penjual</th>\n",
       "      <th>lokasi</th>\n",
       "      <th>terjual</th>\n",
       "      <th>rating</th>\n",
       "    </tr>\n",
       "  </thead>\n",
       "  <tbody>\n",
       "    <tr>\n",
       "      <th>0</th>\n",
       "      <td>Paket Happy (Seblak Original, Batagor Kuah, Ba...</td>\n",
       "      <td>Rp 53.625</td>\n",
       "      <td>None</td>\n",
       "      <td>None</td>\n",
       "      <td>Terjual 500+</td>\n",
       "      <td>4.9</td>\n",
       "    </tr>\n",
       "    <tr>\n",
       "      <th>1</th>\n",
       "      <td>Paket k.y.l (3 Seblak Original 2 Batagor kuah)...</td>\n",
       "      <td>Rp 86.210</td>\n",
       "      <td>None</td>\n",
       "      <td>None</td>\n",
       "      <td>Terjual 3 rb+</td>\n",
       "      <td>4.9</td>\n",
       "    </tr>\n",
       "    <tr>\n",
       "      <th>2</th>\n",
       "      <td>PAKET HEMAT (2 Seblak original - Seblak Karuhu...</td>\n",
       "      <td>Rp 53.250</td>\n",
       "      <td>None</td>\n",
       "      <td>None</td>\n",
       "      <td>Terjual 750+</td>\n",
       "      <td>4.9</td>\n",
       "    </tr>\n",
       "    <tr>\n",
       "      <th>3</th>\n",
       "      <td>SEBLAK JUARA INSTAN MASAK BASAH ASLI BANDUNG E...</td>\n",
       "      <td>Rp22.000</td>\n",
       "      <td>Rasa Juara Indonesia</td>\n",
       "      <td>Bandung</td>\n",
       "      <td>Terjual 750+</td>\n",
       "      <td>4.9</td>\n",
       "    </tr>\n",
       "    <tr>\n",
       "      <th>4</th>\n",
       "      <td>MASJAY Seblak Bumbu Membara Instant - No.1 Str...</td>\n",
       "      <td>Rp15.000</td>\n",
       "      <td>Lidigeli</td>\n",
       "      <td>Kab. Garut</td>\n",
       "      <td>Terjual 70+</td>\n",
       "      <td>5.0</td>\n",
       "    </tr>\n",
       "    <tr>\n",
       "      <th>...</th>\n",
       "      <td>...</td>\n",
       "      <td>...</td>\n",
       "      <td>...</td>\n",
       "      <td>...</td>\n",
       "      <td>...</td>\n",
       "      <td>...</td>\n",
       "    </tr>\n",
       "    <tr>\n",
       "      <th>378</th>\n",
       "      <td>Seblak Instan Pedas Home Made</td>\n",
       "      <td>Rp3.500</td>\n",
       "      <td>the Dhecip</td>\n",
       "      <td>Tangerang Selatan</td>\n",
       "      <td>Terjual 1 rb+</td>\n",
       "      <td>4.8</td>\n",
       "    </tr>\n",
       "    <tr>\n",
       "      <th>379</th>\n",
       "      <td>Seblak Basranger Extra Pedas 200gr</td>\n",
       "      <td>Rp17.300</td>\n",
       "      <td>Rak Sebelah</td>\n",
       "      <td>Jakarta Pusat</td>\n",
       "      <td>Terjual 250+</td>\n",
       "      <td>4.9</td>\n",
       "    </tr>\n",
       "    <tr>\n",
       "      <th>380</th>\n",
       "      <td>Seblak pedas kerupuk pedas kiloan 1 kg</td>\n",
       "      <td>Rp34.000</td>\n",
       "      <td>RIKI STORE 97</td>\n",
       "      <td>Kab. Bogor</td>\n",
       "      <td>Terjual 70+</td>\n",
       "      <td>4.8</td>\n",
       "    </tr>\n",
       "    <tr>\n",
       "      <th>381</th>\n",
       "      <td>Seblak Instan Komplit Pedas Gurih Nikmat</td>\n",
       "      <td>Rp5.999</td>\n",
       "      <td>Baso Aci Ayang</td>\n",
       "      <td>Kab. Garut</td>\n",
       "      <td>Terjual 2 rb+</td>\n",
       "      <td>4.9</td>\n",
       "    </tr>\n",
       "    <tr>\n",
       "      <th>382</th>\n",
       "      <td>SEBRING KRUPUK KERUPUK SEBLAK KERING PEDAS DAU...</td>\n",
       "      <td>Rp16.000</td>\n",
       "      <td>Aydaa Snack</td>\n",
       "      <td>Surakarta</td>\n",
       "      <td>Terjual 40+</td>\n",
       "      <td>4.9</td>\n",
       "    </tr>\n",
       "  </tbody>\n",
       "</table>\n",
       "<p>383 rows × 6 columns</p>\n",
       "</div>"
      ],
      "text/plain": [
       "                                           nama_produk      harga  \\\n",
       "0    Paket Happy (Seblak Original, Batagor Kuah, Ba...  Rp 53.625   \n",
       "1    Paket k.y.l (3 Seblak Original 2 Batagor kuah)...  Rp 86.210   \n",
       "2    PAKET HEMAT (2 Seblak original - Seblak Karuhu...  Rp 53.250   \n",
       "3    SEBLAK JUARA INSTAN MASAK BASAH ASLI BANDUNG E...   Rp22.000   \n",
       "4    MASJAY Seblak Bumbu Membara Instant - No.1 Str...   Rp15.000   \n",
       "..                                                 ...        ...   \n",
       "378                      Seblak Instan Pedas Home Made    Rp3.500   \n",
       "379                 Seblak Basranger Extra Pedas 200gr   Rp17.300   \n",
       "380             Seblak pedas kerupuk pedas kiloan 1 kg   Rp34.000   \n",
       "381           Seblak Instan Komplit Pedas Gurih Nikmat    Rp5.999   \n",
       "382  SEBRING KRUPUK KERUPUK SEBLAK KERING PEDAS DAU...   Rp16.000   \n",
       "\n",
       "                  penjual             lokasi        terjual rating  \n",
       "0                    None               None   Terjual 500+    4.9  \n",
       "1                    None               None  Terjual 3 rb+    4.9  \n",
       "2                    None               None   Terjual 750+    4.9  \n",
       "3    Rasa Juara Indonesia            Bandung   Terjual 750+    4.9  \n",
       "4                Lidigeli         Kab. Garut    Terjual 70+    5.0  \n",
       "..                    ...                ...            ...    ...  \n",
       "378            the Dhecip  Tangerang Selatan  Terjual 1 rb+    4.8  \n",
       "379           Rak Sebelah      Jakarta Pusat   Terjual 250+    4.9  \n",
       "380         RIKI STORE 97         Kab. Bogor    Terjual 70+    4.8  \n",
       "381        Baso Aci Ayang         Kab. Garut  Terjual 2 rb+    4.9  \n",
       "382           Aydaa Snack          Surakarta    Terjual 40+    4.9  \n",
       "\n",
       "[383 rows x 6 columns]"
      ]
     },
     "execution_count": 8,
     "metadata": {},
     "output_type": "execute_result"
    }
   ],
   "source": [
    "seblak_tokped"
   ]
  },
  {
   "cell_type": "code",
   "execution_count": 9,
   "metadata": {},
   "outputs": [],
   "source": [
    "#save variable data to csv\n",
    "seblak_tokped.to_csv('GC3.csv', index=False)"
   ]
  },
  {
   "cell_type": "markdown",
   "metadata": {},
   "source": [
    "## B. Data Preparation"
   ]
  },
  {
   "cell_type": "code",
   "execution_count": 20,
   "metadata": {},
   "outputs": [
    {
     "data": {
      "text/html": [
       "<div>\n",
       "<style scoped>\n",
       "    .dataframe tbody tr th:only-of-type {\n",
       "        vertical-align: middle;\n",
       "    }\n",
       "\n",
       "    .dataframe tbody tr th {\n",
       "        vertical-align: top;\n",
       "    }\n",
       "\n",
       "    .dataframe thead th {\n",
       "        text-align: right;\n",
       "    }\n",
       "</style>\n",
       "<table border=\"1\" class=\"dataframe\">\n",
       "  <thead>\n",
       "    <tr style=\"text-align: right;\">\n",
       "      <th></th>\n",
       "      <th>nama_produk</th>\n",
       "      <th>harga</th>\n",
       "      <th>penjual</th>\n",
       "      <th>lokasi</th>\n",
       "      <th>terjual</th>\n",
       "      <th>rating</th>\n",
       "    </tr>\n",
       "  </thead>\n",
       "  <tbody>\n",
       "    <tr>\n",
       "      <th>0</th>\n",
       "      <td>Paket Happy (Seblak Original, Batagor Kuah, Ba...</td>\n",
       "      <td>Rp 53.625</td>\n",
       "      <td>NaN</td>\n",
       "      <td>NaN</td>\n",
       "      <td>Terjual 500+</td>\n",
       "      <td>4.9</td>\n",
       "    </tr>\n",
       "    <tr>\n",
       "      <th>1</th>\n",
       "      <td>Paket k.y.l (3 Seblak Original 2 Batagor kuah)...</td>\n",
       "      <td>Rp 86.210</td>\n",
       "      <td>NaN</td>\n",
       "      <td>NaN</td>\n",
       "      <td>Terjual 3 rb+</td>\n",
       "      <td>4.9</td>\n",
       "    </tr>\n",
       "    <tr>\n",
       "      <th>2</th>\n",
       "      <td>PAKET HEMAT (2 Seblak original - Seblak Karuhu...</td>\n",
       "      <td>Rp 53.250</td>\n",
       "      <td>NaN</td>\n",
       "      <td>NaN</td>\n",
       "      <td>Terjual 750+</td>\n",
       "      <td>4.9</td>\n",
       "    </tr>\n",
       "    <tr>\n",
       "      <th>3</th>\n",
       "      <td>SEBLAK JUARA INSTAN MASAK BASAH ASLI BANDUNG E...</td>\n",
       "      <td>Rp22.000</td>\n",
       "      <td>Rasa Juara Indonesia</td>\n",
       "      <td>Bandung</td>\n",
       "      <td>Terjual 750+</td>\n",
       "      <td>4.9</td>\n",
       "    </tr>\n",
       "    <tr>\n",
       "      <th>4</th>\n",
       "      <td>MASJAY Seblak Bumbu Membara Instant - No.1 Str...</td>\n",
       "      <td>Rp15.000</td>\n",
       "      <td>Lidigeli</td>\n",
       "      <td>Kab. Garut</td>\n",
       "      <td>Terjual 70+</td>\n",
       "      <td>5.0</td>\n",
       "    </tr>\n",
       "    <tr>\n",
       "      <th>5</th>\n",
       "      <td>KERUPUK / KRUPUK SEBLAK RAFAEL RENYAH / GURIH ...</td>\n",
       "      <td>Rp6.000</td>\n",
       "      <td>TOKO SNACK JAKARTA HENDI</td>\n",
       "      <td>Jakarta Selatan</td>\n",
       "      <td>Terjual 1</td>\n",
       "      <td>NaN</td>\n",
       "    </tr>\n",
       "    <tr>\n",
       "      <th>6</th>\n",
       "      <td>Termurah Kerupuk Mentah-Kerupuk Seblak-Kerupuk...</td>\n",
       "      <td>Rp6.000</td>\n",
       "      <td>Djuragan Kerupuk</td>\n",
       "      <td>Surabaya</td>\n",
       "      <td>Terjual 50+</td>\n",
       "      <td>5.0</td>\n",
       "    </tr>\n",
       "    <tr>\n",
       "      <th>7</th>\n",
       "      <td>baso aci / seblak instan/ batagor kuah milanial</td>\n",
       "      <td>Rp5.999</td>\n",
       "      <td>Suncity.</td>\n",
       "      <td>Kab. Tangerang</td>\n",
       "      <td>Terjual 2 rb+</td>\n",
       "      <td>4.9</td>\n",
       "    </tr>\n",
       "    <tr>\n",
       "      <th>8</th>\n",
       "      <td>seblak instant sajodo snak</td>\n",
       "      <td>Rp19.000</td>\n",
       "      <td>hikmah berkah jaya</td>\n",
       "      <td>Jakarta Barat</td>\n",
       "      <td>Terjual 750+</td>\n",
       "      <td>4.8</td>\n",
       "    </tr>\n",
       "    <tr>\n",
       "      <th>9</th>\n",
       "      <td>Kerupuk Mawar Bahan Seblak Babangi 250 Gram</td>\n",
       "      <td>Rp7.000</td>\n",
       "      <td>Alanza Frozen Food</td>\n",
       "      <td>Tangerang Selatan</td>\n",
       "      <td>Terjual 17</td>\n",
       "      <td>5.0</td>\n",
       "    </tr>\n",
       "    <tr>\n",
       "      <th>10</th>\n",
       "      <td>Seblak Instan Pedas Home Made</td>\n",
       "      <td>Rp3.500</td>\n",
       "      <td>the Dhecip</td>\n",
       "      <td>Tangerang Selatan</td>\n",
       "      <td>Terjual 1 rb+</td>\n",
       "      <td>4.8</td>\n",
       "    </tr>\n",
       "  </tbody>\n",
       "</table>\n",
       "</div>"
      ],
      "text/plain": [
       "                                          nama_produk      harga  \\\n",
       "0   Paket Happy (Seblak Original, Batagor Kuah, Ba...  Rp 53.625   \n",
       "1   Paket k.y.l (3 Seblak Original 2 Batagor kuah)...  Rp 86.210   \n",
       "2   PAKET HEMAT (2 Seblak original - Seblak Karuhu...  Rp 53.250   \n",
       "3   SEBLAK JUARA INSTAN MASAK BASAH ASLI BANDUNG E...   Rp22.000   \n",
       "4   MASJAY Seblak Bumbu Membara Instant - No.1 Str...   Rp15.000   \n",
       "5   KERUPUK / KRUPUK SEBLAK RAFAEL RENYAH / GURIH ...    Rp6.000   \n",
       "6   Termurah Kerupuk Mentah-Kerupuk Seblak-Kerupuk...    Rp6.000   \n",
       "7     baso aci / seblak instan/ batagor kuah milanial    Rp5.999   \n",
       "8                          seblak instant sajodo snak   Rp19.000   \n",
       "9         Kerupuk Mawar Bahan Seblak Babangi 250 Gram    Rp7.000   \n",
       "10                      Seblak Instan Pedas Home Made    Rp3.500   \n",
       "\n",
       "                     penjual             lokasi        terjual  rating  \n",
       "0                        NaN                NaN   Terjual 500+     4.9  \n",
       "1                        NaN                NaN  Terjual 3 rb+     4.9  \n",
       "2                        NaN                NaN   Terjual 750+     4.9  \n",
       "3       Rasa Juara Indonesia            Bandung   Terjual 750+     4.9  \n",
       "4                   Lidigeli         Kab. Garut    Terjual 70+     5.0  \n",
       "5   TOKO SNACK JAKARTA HENDI    Jakarta Selatan      Terjual 1     NaN  \n",
       "6           Djuragan Kerupuk           Surabaya    Terjual 50+     5.0  \n",
       "7                   Suncity.     Kab. Tangerang  Terjual 2 rb+     4.9  \n",
       "8         hikmah berkah jaya      Jakarta Barat   Terjual 750+     4.8  \n",
       "9         Alanza Frozen Food  Tangerang Selatan     Terjual 17     5.0  \n",
       "10                the Dhecip  Tangerang Selatan  Terjual 1 rb+     4.8  "
      ]
     },
     "execution_count": 20,
     "metadata": {},
     "output_type": "execute_result"
    }
   ],
   "source": [
    "seblak_tokped = pd.read_csv('GC3.csv')\n",
    "seblak_tokped.head(11)"
   ]
  },
  {
   "cell_type": "markdown",
   "metadata": {},
   "source": [
    "- Data diatas adalah tabel informasi dari produk seblak di tokopedia, yang berjumlahkan 383 rows dan 6 columns.\n",
    "\n",
    "- Bisa dilihat juga, bahwa ada value NaN pada table terjual, dan lokasi\n",
    "\n",
    "- Nilai angka pada 'harga' masih  memiliki 'Rp', harus di hapus agar bisa dipakai untuk kalkulasi\n",
    "\n",
    "- Hapus \"Terjual\", 'rb', dan '+' pada tabel terjual"
   ]
  },
  {
   "cell_type": "code",
   "execution_count": 37,
   "metadata": {},
   "outputs": [
    {
     "name": "stdout",
     "output_type": "stream",
     "text": [
      "<class 'pandas.core.frame.DataFrame'>\n",
      "RangeIndex: 383 entries, 0 to 382\n",
      "Data columns (total 6 columns):\n",
      " #   Column       Non-Null Count  Dtype  \n",
      "---  ------       --------------  -----  \n",
      " 0   nama_produk  383 non-null    object \n",
      " 1   harga        383 non-null    int64  \n",
      " 2   penjual      368 non-null    object \n",
      " 3   lokasi       368 non-null    object \n",
      " 4   terjual      367 non-null    object \n",
      " 5   rating       366 non-null    float64\n",
      "dtypes: float64(1), int64(1), object(4)\n",
      "memory usage: 18.1+ KB\n"
     ]
    }
   ],
   "source": [
    "# Menunjukan informasi dasar seperti data type setiap kolom\n",
    "seblak_tokped.info()"
   ]
  },
  {
   "cell_type": "markdown",
   "metadata": {},
   "source": [
    "- Harga memilike tipe object, jadi bisa diubah menjadi tipe int"
   ]
  },
  {
   "cell_type": "code",
   "execution_count": null,
   "metadata": {},
   "outputs": [],
   "source": [
    "# menghilangkan RP dan . dalam kolom harga\n",
    "seblak_tokped['harga'] = seblak_tokped['harga'].str.replace('Rp', '').str.replace('.','')"
   ]
  },
  {
   "cell_type": "code",
   "execution_count": 40,
   "metadata": {},
   "outputs": [
    {
     "name": "stderr",
     "output_type": "stream",
     "text": [
      "C:\\Users\\User\\AppData\\Local\\Temp\\ipykernel_14460\\4058303436.py:1: FutureWarning: The default value of regex will change from True to False in a future version. In addition, single character regular expressions will *not* be treated as literal strings when regex=True.\n",
      "  seblak_tokped['terjual'] = seblak_tokped['terjual'].str.replace('Terjual','').str.replace(' rb','000').str.replace('+','')\n"
     ]
    }
   ],
   "source": [
    "seblak_tokped['terjual'] = seblak_tokped['terjual'].str.replace('Terjual','').str.replace(' rb','000').str.replace('+','')"
   ]
  },
  {
   "cell_type": "code",
   "execution_count": 42,
   "metadata": {},
   "outputs": [
    {
     "name": "stdout",
     "output_type": "stream",
     "text": [
      "<class 'pandas.core.frame.DataFrame'>\n",
      "RangeIndex: 383 entries, 0 to 382\n",
      "Data columns (total 6 columns):\n",
      " #   Column       Non-Null Count  Dtype  \n",
      "---  ------       --------------  -----  \n",
      " 0   nama_produk  383 non-null    object \n",
      " 1   harga        383 non-null    int64  \n",
      " 2   penjual      368 non-null    object \n",
      " 3   lokasi       368 non-null    object \n",
      " 4   terjual      367 non-null    Int64  \n",
      " 5   rating       366 non-null    float64\n",
      "dtypes: Int64(1), float64(1), int64(1), object(3)\n",
      "memory usage: 18.5+ KB\n"
     ]
    }
   ],
   "source": [
    "# mengubah tipe data harga dari object, menjadi int64\n",
    "seblak_tokped['harga'] = seblak_tokped['harga'].astype('int64')\n",
    "\n",
    "# mengubah tipe data terjual dari object, menjadi int64\n",
    "seblak_tokped['terjual'] = seblak_tokped['terjual'].astype('Int64')\n",
    "\n",
    "seblak_tokped['rating'] = seblak_tokped['rating'].astype('float64')\n",
    "\n",
    "seblak_tokped.info()"
   ]
  },
  {
   "cell_type": "code",
   "execution_count": 44,
   "metadata": {},
   "outputs": [
    {
     "data": {
      "text/plain": [
       "nama_produk    0\n",
       "harga          0\n",
       "penjual        0\n",
       "lokasi         0\n",
       "terjual        0\n",
       "rating         0\n",
       "dtype: int64"
      ]
     },
     "execution_count": 44,
     "metadata": {},
     "output_type": "execute_result"
    }
   ],
   "source": [
    "scrap_tokped = seblak_tokped.dropna() #Remove Missing Value\n",
    "scrap_tokped.isnull().sum()"
   ]
  },
  {
   "cell_type": "code",
   "execution_count": 45,
   "metadata": {},
   "outputs": [
    {
     "data": {
      "text/html": [
       "<div>\n",
       "<style scoped>\n",
       "    .dataframe tbody tr th:only-of-type {\n",
       "        vertical-align: middle;\n",
       "    }\n",
       "\n",
       "    .dataframe tbody tr th {\n",
       "        vertical-align: top;\n",
       "    }\n",
       "\n",
       "    .dataframe thead th {\n",
       "        text-align: right;\n",
       "    }\n",
       "</style>\n",
       "<table border=\"1\" class=\"dataframe\">\n",
       "  <thead>\n",
       "    <tr style=\"text-align: right;\">\n",
       "      <th></th>\n",
       "      <th>nama_produk</th>\n",
       "      <th>harga</th>\n",
       "      <th>penjual</th>\n",
       "      <th>lokasi</th>\n",
       "      <th>terjual</th>\n",
       "      <th>rating</th>\n",
       "    </tr>\n",
       "  </thead>\n",
       "  <tbody>\n",
       "    <tr>\n",
       "      <th>3</th>\n",
       "      <td>SEBLAK JUARA INSTAN MASAK BASAH ASLI BANDUNG E...</td>\n",
       "      <td>22000</td>\n",
       "      <td>Rasa Juara Indonesia</td>\n",
       "      <td>Bandung</td>\n",
       "      <td>750</td>\n",
       "      <td>4.9</td>\n",
       "    </tr>\n",
       "    <tr>\n",
       "      <th>4</th>\n",
       "      <td>MASJAY Seblak Bumbu Membara Instant - No.1 Str...</td>\n",
       "      <td>15000</td>\n",
       "      <td>Lidigeli</td>\n",
       "      <td>Kab. Garut</td>\n",
       "      <td>70</td>\n",
       "      <td>5.0</td>\n",
       "    </tr>\n",
       "    <tr>\n",
       "      <th>6</th>\n",
       "      <td>Termurah Kerupuk Mentah-Kerupuk Seblak-Kerupuk...</td>\n",
       "      <td>6000</td>\n",
       "      <td>Djuragan Kerupuk</td>\n",
       "      <td>Surabaya</td>\n",
       "      <td>50</td>\n",
       "      <td>5.0</td>\n",
       "    </tr>\n",
       "    <tr>\n",
       "      <th>7</th>\n",
       "      <td>baso aci / seblak instan/ batagor kuah milanial</td>\n",
       "      <td>5999</td>\n",
       "      <td>Suncity.</td>\n",
       "      <td>Kab. Tangerang</td>\n",
       "      <td>2000</td>\n",
       "      <td>4.9</td>\n",
       "    </tr>\n",
       "    <tr>\n",
       "      <th>8</th>\n",
       "      <td>seblak instant sajodo snak</td>\n",
       "      <td>19000</td>\n",
       "      <td>hikmah berkah jaya</td>\n",
       "      <td>Jakarta Barat</td>\n",
       "      <td>750</td>\n",
       "      <td>4.8</td>\n",
       "    </tr>\n",
       "    <tr>\n",
       "      <th>...</th>\n",
       "      <td>...</td>\n",
       "      <td>...</td>\n",
       "      <td>...</td>\n",
       "      <td>...</td>\n",
       "      <td>...</td>\n",
       "      <td>...</td>\n",
       "    </tr>\n",
       "    <tr>\n",
       "      <th>378</th>\n",
       "      <td>Seblak Instan Pedas Home Made</td>\n",
       "      <td>3500</td>\n",
       "      <td>the Dhecip</td>\n",
       "      <td>Tangerang Selatan</td>\n",
       "      <td>1000</td>\n",
       "      <td>4.8</td>\n",
       "    </tr>\n",
       "    <tr>\n",
       "      <th>379</th>\n",
       "      <td>Seblak Basranger Extra Pedas 200gr</td>\n",
       "      <td>17300</td>\n",
       "      <td>Rak Sebelah</td>\n",
       "      <td>Jakarta Pusat</td>\n",
       "      <td>250</td>\n",
       "      <td>4.9</td>\n",
       "    </tr>\n",
       "    <tr>\n",
       "      <th>380</th>\n",
       "      <td>Seblak pedas kerupuk pedas kiloan 1 kg</td>\n",
       "      <td>34000</td>\n",
       "      <td>RIKI STORE 97</td>\n",
       "      <td>Kab. Bogor</td>\n",
       "      <td>70</td>\n",
       "      <td>4.8</td>\n",
       "    </tr>\n",
       "    <tr>\n",
       "      <th>381</th>\n",
       "      <td>Seblak Instan Komplit Pedas Gurih Nikmat</td>\n",
       "      <td>5999</td>\n",
       "      <td>Baso Aci Ayang</td>\n",
       "      <td>Kab. Garut</td>\n",
       "      <td>2000</td>\n",
       "      <td>4.9</td>\n",
       "    </tr>\n",
       "    <tr>\n",
       "      <th>382</th>\n",
       "      <td>SEBRING KRUPUK KERUPUK SEBLAK KERING PEDAS DAU...</td>\n",
       "      <td>16000</td>\n",
       "      <td>Aydaa Snack</td>\n",
       "      <td>Surakarta</td>\n",
       "      <td>40</td>\n",
       "      <td>4.9</td>\n",
       "    </tr>\n",
       "  </tbody>\n",
       "</table>\n",
       "<p>353 rows × 6 columns</p>\n",
       "</div>"
      ],
      "text/plain": [
       "                                           nama_produk  harga  \\\n",
       "3    SEBLAK JUARA INSTAN MASAK BASAH ASLI BANDUNG E...  22000   \n",
       "4    MASJAY Seblak Bumbu Membara Instant - No.1 Str...  15000   \n",
       "6    Termurah Kerupuk Mentah-Kerupuk Seblak-Kerupuk...   6000   \n",
       "7      baso aci / seblak instan/ batagor kuah milanial   5999   \n",
       "8                           seblak instant sajodo snak  19000   \n",
       "..                                                 ...    ...   \n",
       "378                      Seblak Instan Pedas Home Made   3500   \n",
       "379                 Seblak Basranger Extra Pedas 200gr  17300   \n",
       "380             Seblak pedas kerupuk pedas kiloan 1 kg  34000   \n",
       "381           Seblak Instan Komplit Pedas Gurih Nikmat   5999   \n",
       "382  SEBRING KRUPUK KERUPUK SEBLAK KERING PEDAS DAU...  16000   \n",
       "\n",
       "                  penjual             lokasi  terjual  rating  \n",
       "3    Rasa Juara Indonesia            Bandung      750     4.9  \n",
       "4                Lidigeli         Kab. Garut       70     5.0  \n",
       "6        Djuragan Kerupuk           Surabaya       50     5.0  \n",
       "7                Suncity.     Kab. Tangerang     2000     4.9  \n",
       "8      hikmah berkah jaya      Jakarta Barat      750     4.8  \n",
       "..                    ...                ...      ...     ...  \n",
       "378            the Dhecip  Tangerang Selatan     1000     4.8  \n",
       "379           Rak Sebelah      Jakarta Pusat      250     4.9  \n",
       "380         RIKI STORE 97         Kab. Bogor       70     4.8  \n",
       "381        Baso Aci Ayang         Kab. Garut     2000     4.9  \n",
       "382           Aydaa Snack          Surakarta       40     4.9  \n",
       "\n",
       "[353 rows x 6 columns]"
      ]
     },
     "execution_count": 45,
     "metadata": {},
     "output_type": "execute_result"
    }
   ],
   "source": [
    "scrap_tokped"
   ]
  },
  {
   "cell_type": "markdown",
   "metadata": {},
   "source": [
    "## C. Business Understanding/Problem Statement\n",
    "\n",
    "Buat problem statement menggunakan SMART framework berikut dengan penjabaran Specific, Measurable, Achievable, Relevant, dan Time-bound. Jangan lupa merangkup dalam satu kalimat problem statement serta gunakan metrik yang tepat dari kasus ini."
   ]
  },
  {
   "cell_type": "markdown",
   "metadata": {},
   "source": [
    "### Permasalahan\n",
    "Saya adalah calon entrepreneur yang ingin memulai usaha nya di bidang Fnb, spesifik nya adalah berjualan seblak yang bisa di simpan dalam packaging, karena produk seblak itu sangat disukai dan pernah ramai dibicarakan juga di sosial media. Namun, saya tidak tahu market nya seblak, lokasi mana yang paling banyak mengkonsumsi seblak, apakah Jabodetabek, atau diluar Jabodetabek.\n",
    "\n",
    "### SMART METHOD:\n",
    "- Spesific: Menjalankan bisnis berjualan seblak di tokopedia, di lokasi yang akan ditentukan lewat analisa\n",
    "\n",
    "- Measurable: Melakukan analisa dari rata rata jumlah produk yang terjual/penghasilan dari jabodetabek dan luar jabodetabek\n",
    "\n",
    "- Achievable: Melakukan analisa dengan menggunakan tools yang telah di ajarkan dalam bootcamp\n",
    "\n",
    "- Relevant: Menemukan lokasi yang tepat untuk berjualan sangat relevant dan mempunyai dampak yang signifikan terhadap penjualan.\n",
    "\n",
    "- Time-Bound: Analisa ini dilakukan dalam waktu lima hari, dan akan di implementasikan setelah ada nya hasil dari analisa.\n",
    "\n",
    "### Problem Statement\n",
    "Melakukan analisa relasi lokasi penjualan (jabodetabek/luar jabodetabek) terhadap penjualan/penghasilan,agar lancarnya proses operasi dan penjualan bisnis seblak."
   ]
  },
  {
   "cell_type": "markdown",
   "metadata": {},
   "source": [
    "## D. Analysis"
   ]
  },
  {
   "cell_type": "markdown",
   "metadata": {},
   "source": [
    "### 1. Mencari Rata-Rata, Median, Standar Deviasi, Skewness, dan Kurtosis agar bisa tau rata rata,median, dan distribusi dari Harga, Unit Terjual, dan Rating dari produk seblak di Tokopedia"
   ]
  },
  {
   "cell_type": "markdown",
   "metadata": {},
   "source": [
    "#### Price/Harga"
   ]
  },
  {
   "cell_type": "code",
   "execution_count": 57,
   "metadata": {},
   "outputs": [
    {
     "data": {
      "text/plain": [
       "13972.85835694051"
      ]
     },
     "execution_count": 57,
     "metadata": {},
     "output_type": "execute_result"
    }
   ],
   "source": [
    "# Average Harga\n",
    "avg_harga = scrap_tokped['harga'].mean()\n",
    "avg_harga"
   ]
  },
  {
   "cell_type": "markdown",
   "metadata": {},
   "source": [
    "nilai rata rata dari harga adalah Rp13.972"
   ]
  },
  {
   "cell_type": "code",
   "execution_count": 58,
   "metadata": {},
   "outputs": [
    {
     "data": {
      "text/plain": [
       "10000.0"
      ]
     },
     "execution_count": 58,
     "metadata": {},
     "output_type": "execute_result"
    }
   ],
   "source": [
    "# Median Harga\n",
    "media_harga = scrap_tokped['harga'].median()\n",
    "media_harga"
   ]
  },
  {
   "cell_type": "markdown",
   "metadata": {},
   "source": [
    "nilai median dari harga adalah Rp10.000"
   ]
  },
  {
   "cell_type": "code",
   "execution_count": 59,
   "metadata": {},
   "outputs": [
    {
     "data": {
      "text/plain": [
       "12449.832066332467"
      ]
     },
     "execution_count": 59,
     "metadata": {},
     "output_type": "execute_result"
    }
   ],
   "source": [
    "# SD (Standar Deviasi) Harga\n",
    "sd_harga = scrap_tokped['harga'].std()\n",
    "sd_harga"
   ]
  },
  {
   "cell_type": "markdown",
   "metadata": {},
   "source": [
    "Hasil dari perhitungan Standar Deviasi (12449) menjelaskan bahwa ada banyak variasi data yang terdapat pada kolom harga"
   ]
  },
  {
   "cell_type": "code",
   "execution_count": 61,
   "metadata": {},
   "outputs": [
    {
     "data": {
      "text/plain": [
       "3.2034971632696023"
      ]
     },
     "execution_count": 61,
     "metadata": {},
     "output_type": "execute_result"
    }
   ],
   "source": [
    "# Skewness Harga\n",
    "skewness_harga = scrap_tokped['harga'].skew()\n",
    "skewness_harga"
   ]
  },
  {
   "cell_type": "markdown",
   "metadata": {},
   "source": [
    "Melihat dari hasil Skewness harga, kita bisa bilang bahwa distribusi terdapat skew yang tinggi, dan melihat dari value mean yang lebih tinggi dari median, mengindikasikan bahwa skewness nya itu positif."
   ]
  },
  {
   "cell_type": "code",
   "execution_count": 62,
   "metadata": {},
   "outputs": [
    {
     "data": {
      "text/plain": [
       "13.303149769331325"
      ]
     },
     "execution_count": 62,
     "metadata": {},
     "output_type": "execute_result"
    }
   ],
   "source": [
    "# Kurtosis Harga\n",
    "\n",
    "kurtosis_harga = scrap_tokped['harga'].kurtosis()\n",
    "kurtosis_harga"
   ]
  },
  {
   "cell_type": "markdown",
   "metadata": {},
   "source": [
    "Hasil dari test kurtosis harga adalah 13.3, ini mengindikasikan bahwa shape nya adalah leptokurtic, dan bisa juga di artikan bahwa adanya outlier pada kolom harga"
   ]
  },
  {
   "cell_type": "code",
   "execution_count": 64,
   "metadata": {},
   "outputs": [
    {
     "data": {
      "text/plain": [
       "<Axes: ylabel='Frequency'>"
      ]
     },
     "execution_count": 64,
     "metadata": {},
     "output_type": "execute_result"
    },
    {
     "data": {
      "image/png": "[encoded data removed]",
      "text/plain": [
       "<Figure size 640x480 with 1 Axes>"
      ]
     },
     "metadata": {},
     "output_type": "display_data"
    }
   ],
   "source": [
    "scrap_tokped['harga'].plot(kind='hist',bins=100)"
   ]
  },
  {
   "cell_type": "markdown",
   "metadata": {},
   "source": [
    "#### Units Sold/Terjual"
   ]
  },
  {
   "cell_type": "code",
   "execution_count": 65,
   "metadata": {},
   "outputs": [
    {
     "data": {
      "text/plain": [
       "1042.9263456090653"
      ]
     },
     "execution_count": 65,
     "metadata": {},
     "output_type": "execute_result"
    }
   ],
   "source": [
    "# Average terjual\n",
    "avg_terjual = scrap_tokped['terjual'].mean()\n",
    "avg_terjual"
   ]
  },
  {
   "cell_type": "markdown",
   "metadata": {},
   "source": [
    "nilai rata rata dari kolom terjual adalah 1042"
   ]
  },
  {
   "cell_type": "code",
   "execution_count": 66,
   "metadata": {},
   "outputs": [
    {
     "data": {
      "text/plain": [
       "250.0"
      ]
     },
     "execution_count": 66,
     "metadata": {},
     "output_type": "execute_result"
    }
   ],
   "source": [
    "# Median terjual\n",
    "median_terjual = scrap_tokped['terjual'].median()\n",
    "median_terjual"
   ]
  },
  {
   "cell_type": "markdown",
   "metadata": {},
   "source": [
    "nilai median dari kolom terjual adalah 250"
   ]
  },
  {
   "cell_type": "code",
   "execution_count": 67,
   "metadata": {},
   "outputs": [
    {
     "data": {
      "text/plain": [
       "2313.209656519306"
      ]
     },
     "execution_count": 67,
     "metadata": {},
     "output_type": "execute_result"
    }
   ],
   "source": [
    "# SD (Standar Deviasi) terjual\n",
    "sd_terjual = scrap_tokped['terjual'].std()\n",
    "sd_terjual"
   ]
  },
  {
   "cell_type": "markdown",
   "metadata": {},
   "source": [
    "Hasil dari perhitungan Standar Deviasi (2313) menjelaskan bahwa ada banyak variasi data yang terdapat pada kolom terjual"
   ]
  },
  {
   "cell_type": "code",
   "execution_count": 68,
   "metadata": {},
   "outputs": [
    {
     "data": {
      "text/plain": [
       "3.32187873885426"
      ]
     },
     "execution_count": 68,
     "metadata": {},
     "output_type": "execute_result"
    }
   ],
   "source": [
    "# Skewness terjual\n",
    "skewness_terjual = scrap_tokped['terjual'].skew()\n",
    "skewness_terjual"
   ]
  },
  {
   "cell_type": "markdown",
   "metadata": {},
   "source": [
    "Melihat dari hasil Skewness terjual, kita bisa bilang bahwa dalam distribusi terdapat skew yang tinggi, dan melihat dari value mean yang lebih tinggi dari median, mengindikasikan bahwa skewness nya itu positif."
   ]
  },
  {
   "cell_type": "code",
   "execution_count": 69,
   "metadata": {},
   "outputs": [
    {
     "data": {
      "text/plain": [
       "10.065871133573484"
      ]
     },
     "execution_count": 69,
     "metadata": {},
     "output_type": "execute_result"
    }
   ],
   "source": [
    "# Kurtosis terjual\n",
    "kurtosis_terjual = scrap_tokped['terjual'].kurtosis()\n",
    "kurtosis_terjual"
   ]
  },
  {
   "cell_type": "markdown",
   "metadata": {},
   "source": [
    "Hasil dari test kurtosis terjual adalah 10, ini mengindikasikan bahwa shape nya adalah leptokurtic, dan bisa juga di artikan bahwa adanya outlier pada kolom terjual"
   ]
  },
  {
   "cell_type": "code",
   "execution_count": 70,
   "metadata": {},
   "outputs": [
    {
     "data": {
      "text/plain": [
       "<Axes: ylabel='Frequency'>"
      ]
     },
     "execution_count": 70,
     "metadata": {},
     "output_type": "execute_result"
    },
    {
     "data": {
      "image/png": "[encoded data removed]",
      "text/plain": [
       "<Figure size 640x480 with 1 Axes>"
      ]
     },
     "metadata": {},
     "output_type": "display_data"
    }
   ],
   "source": [
    "scrap_tokped['terjual'].plot(kind='hist',bins=100)"
   ]
  },
  {
   "cell_type": "markdown",
   "metadata": {},
   "source": [
    "#### Rating"
   ]
  },
  {
   "cell_type": "code",
   "execution_count": 71,
   "metadata": {},
   "outputs": [
    {
     "data": {
      "text/plain": [
       "4.865155807365439"
      ]
     },
     "execution_count": 71,
     "metadata": {},
     "output_type": "execute_result"
    }
   ],
   "source": [
    "# avg rating\n",
    "avg_rating = scrap_tokped['rating'].mean()\n",
    "avg_rating"
   ]
  },
  {
   "cell_type": "markdown",
   "metadata": {},
   "source": [
    "nilai rata rata dari kolom rating adalah 4.8"
   ]
  },
  {
   "cell_type": "code",
   "execution_count": 72,
   "metadata": {},
   "outputs": [
    {
     "data": {
      "text/plain": [
       "4.9"
      ]
     },
     "execution_count": 72,
     "metadata": {},
     "output_type": "execute_result"
    }
   ],
   "source": [
    "# Median rating\n",
    "median_rating = scrap_tokped['rating'].median()\n",
    "median_rating"
   ]
  },
  {
   "cell_type": "markdown",
   "metadata": {},
   "source": [
    "nilai median dari kolom rating adalah 4.9"
   ]
  },
  {
   "cell_type": "code",
   "execution_count": 73,
   "metadata": {},
   "outputs": [
    {
     "data": {
      "text/plain": [
       "0.12295389507530884"
      ]
     },
     "execution_count": 73,
     "metadata": {},
     "output_type": "execute_result"
    }
   ],
   "source": [
    "# SD (Standar Deviasi) rating\n",
    "sd_rating = scrap_tokped['rating'].std()\n",
    "sd_rating"
   ]
  },
  {
   "cell_type": "markdown",
   "metadata": {},
   "source": [
    "Hasil dari perhitungan Standar Deviasi (0.12) menjelaskan bahwa tidak banyak variasi data yang terdapat pada kolom rating"
   ]
  },
  {
   "cell_type": "code",
   "execution_count": 74,
   "metadata": {},
   "outputs": [
    {
     "data": {
      "text/plain": [
       "-4.254353143339029"
      ]
     },
     "execution_count": 74,
     "metadata": {},
     "output_type": "execute_result"
    }
   ],
   "source": [
    "# Skewness rating\n",
    "skewness_rating = scrap_tokped['rating'].skew()\n",
    "skewness_rating"
   ]
  },
  {
   "cell_type": "markdown",
   "metadata": {},
   "source": [
    "Melihat dari hasil Skewness rating, kita bisa bilang bahwa dalam distribusi terdapat skew yang tinggi, dan melihat dari value mean yang lebih rendah dari median, mengindikasikan bahwa skewness nya itu negatif."
   ]
  },
  {
   "cell_type": "code",
   "execution_count": 75,
   "metadata": {},
   "outputs": [
    {
     "data": {
      "text/plain": [
       "42.70130020006785"
      ]
     },
     "execution_count": 75,
     "metadata": {},
     "output_type": "execute_result"
    }
   ],
   "source": [
    "# Kurtosis rating\n",
    "kurtosis_rating = scrap_tokped['rating'].kurtosis()\n",
    "kurtosis_rating"
   ]
  },
  {
   "cell_type": "markdown",
   "metadata": {},
   "source": [
    "Hasil dari test kurtosis rating adalah 42.7, ini mengindikasikan bahwa shape nya adalah leptokurtic, dan bisa juga di artikan bahwa adanya outlier pada kolom rating"
   ]
  },
  {
   "cell_type": "code",
   "execution_count": 76,
   "metadata": {},
   "outputs": [
    {
     "data": {
      "text/plain": [
       "<Axes: ylabel='Frequency'>"
      ]
     },
     "execution_count": 76,
     "metadata": {},
     "output_type": "execute_result"
    },
    {
     "data": {
      "image/png": "[encoded data removed]",
      "text/plain": [
       "<Figure size 640x480 with 1 Axes>"
      ]
     },
     "metadata": {},
     "output_type": "display_data"
    }
   ],
   "source": [
    "scrap_tokped['rating'].plot(kind='hist',bins=100)"
   ]
  },
  {
   "cell_type": "markdown",
   "metadata": {},
   "source": [
    "### 2. Potensi pendapatan minimum dan maksimum jika kamu menjual produk seblak menggunakan applikasi/website Tokopedia ?"
   ]
  },
  {
   "cell_type": "markdown",
   "metadata": {},
   "source": [
    "untung mengehatui pendapatan min dan max dari masing masing penjual di tokopedia, berarti harus dikalkulasikan revenue nya, untuk mencari revenue kita harus mengkalikan harga dengan terjual"
   ]
  },
  {
   "cell_type": "code",
   "execution_count": 79,
   "metadata": {},
   "outputs": [
    {
     "name": "stderr",
     "output_type": "stream",
     "text": [
      "C:\\Users\\User\\AppData\\Local\\Temp\\ipykernel_14460\\1109191864.py:1: SettingWithCopyWarning: \n",
      "A value is trying to be set on a copy of a slice from a DataFrame.\n",
      "Try using .loc[row_indexer,col_indexer] = value instead\n",
      "\n",
      "See the caveats in the documentation: https://pandas.pydata.org/pandas-docs/stable/user_guide/indexing.html#returning-a-view-versus-a-copy\n",
      "  scrap_tokped['revenue'] = scrap_tokped['harga'] * scrap_tokped['terjual']\n"
     ]
    },
    {
     "data": {
      "text/html": [
       "<div>\n",
       "<style scoped>\n",
       "    .dataframe tbody tr th:only-of-type {\n",
       "        vertical-align: middle;\n",
       "    }\n",
       "\n",
       "    .dataframe tbody tr th {\n",
       "        vertical-align: top;\n",
       "    }\n",
       "\n",
       "    .dataframe thead th {\n",
       "        text-align: right;\n",
       "    }\n",
       "</style>\n",
       "<table border=\"1\" class=\"dataframe\">\n",
       "  <thead>\n",
       "    <tr style=\"text-align: right;\">\n",
       "      <th></th>\n",
       "      <th>nama_produk</th>\n",
       "      <th>harga</th>\n",
       "      <th>penjual</th>\n",
       "      <th>lokasi</th>\n",
       "      <th>terjual</th>\n",
       "      <th>rating</th>\n",
       "      <th>Spesifikasi</th>\n",
       "      <th>revenue</th>\n",
       "    </tr>\n",
       "  </thead>\n",
       "  <tbody>\n",
       "    <tr>\n",
       "      <th>3</th>\n",
       "      <td>SEBLAK JUARA INSTAN MASAK BASAH ASLI BANDUNG E...</td>\n",
       "      <td>22000</td>\n",
       "      <td>Rasa Juara Indonesia</td>\n",
       "      <td>Bandung</td>\n",
       "      <td>750</td>\n",
       "      <td>4.9</td>\n",
       "      <td>Luar Jabodetabek</td>\n",
       "      <td>16500000</td>\n",
       "    </tr>\n",
       "    <tr>\n",
       "      <th>4</th>\n",
       "      <td>MASJAY Seblak Bumbu Membara Instant - No.1 Str...</td>\n",
       "      <td>15000</td>\n",
       "      <td>Lidigeli</td>\n",
       "      <td>Kab. Garut</td>\n",
       "      <td>70</td>\n",
       "      <td>5.0</td>\n",
       "      <td>Luar Jabodetabek</td>\n",
       "      <td>1050000</td>\n",
       "    </tr>\n",
       "    <tr>\n",
       "      <th>6</th>\n",
       "      <td>Termurah Kerupuk Mentah-Kerupuk Seblak-Kerupuk...</td>\n",
       "      <td>6000</td>\n",
       "      <td>Djuragan Kerupuk</td>\n",
       "      <td>Surabaya</td>\n",
       "      <td>50</td>\n",
       "      <td>5.0</td>\n",
       "      <td>Luar Jabodetabek</td>\n",
       "      <td>300000</td>\n",
       "    </tr>\n",
       "    <tr>\n",
       "      <th>7</th>\n",
       "      <td>baso aci / seblak instan/ batagor kuah milanial</td>\n",
       "      <td>5999</td>\n",
       "      <td>Suncity.</td>\n",
       "      <td>Kab. Tangerang</td>\n",
       "      <td>2000</td>\n",
       "      <td>4.9</td>\n",
       "      <td>Jabodetabek</td>\n",
       "      <td>11998000</td>\n",
       "    </tr>\n",
       "    <tr>\n",
       "      <th>8</th>\n",
       "      <td>seblak instant sajodo snak</td>\n",
       "      <td>19000</td>\n",
       "      <td>hikmah berkah jaya</td>\n",
       "      <td>Jakarta Barat</td>\n",
       "      <td>750</td>\n",
       "      <td>4.8</td>\n",
       "      <td>Jabodetabek</td>\n",
       "      <td>14250000</td>\n",
       "    </tr>\n",
       "  </tbody>\n",
       "</table>\n",
       "</div>"
      ],
      "text/plain": [
       "                                         nama_produk  harga  \\\n",
       "3  SEBLAK JUARA INSTAN MASAK BASAH ASLI BANDUNG E...  22000   \n",
       "4  MASJAY Seblak Bumbu Membara Instant - No.1 Str...  15000   \n",
       "6  Termurah Kerupuk Mentah-Kerupuk Seblak-Kerupuk...   6000   \n",
       "7    baso aci / seblak instan/ batagor kuah milanial   5999   \n",
       "8                         seblak instant sajodo snak  19000   \n",
       "\n",
       "                penjual          lokasi  terjual  rating       Spesifikasi  \\\n",
       "3  Rasa Juara Indonesia         Bandung      750     4.9  Luar Jabodetabek   \n",
       "4              Lidigeli      Kab. Garut       70     5.0  Luar Jabodetabek   \n",
       "6      Djuragan Kerupuk        Surabaya       50     5.0  Luar Jabodetabek   \n",
       "7              Suncity.  Kab. Tangerang     2000     4.9       Jabodetabek   \n",
       "8    hikmah berkah jaya   Jakarta Barat      750     4.8       Jabodetabek   \n",
       "\n",
       "    revenue  \n",
       "3  16500000  \n",
       "4   1050000  \n",
       "6    300000  \n",
       "7  11998000  \n",
       "8  14250000  "
      ]
     },
     "execution_count": 79,
     "metadata": {},
     "output_type": "execute_result"
    }
   ],
   "source": [
    "scrap_tokped['revenue'] = scrap_tokped['harga'] * scrap_tokped['terjual']\n",
    "scrap_tokped.head()"
   ]
  },
  {
   "cell_type": "markdown",
   "metadata": {},
   "source": [
    "Harus dicari nilai standar deviasi, dan membuat variabel baru agar bisa di pakai kedalam rumus pencarian upper dan lower value"
   ]
  },
  {
   "cell_type": "code",
   "execution_count": 84,
   "metadata": {},
   "outputs": [
    {
     "name": "stdout",
     "output_type": "stream",
     "text": [
      "Collecting scipy\n",
      "  Downloading scipy-1.11.1-cp311-cp311-win_amd64.whl (44.0 MB)\n",
      "     ---------------------------------------- 44.0/44.0 MB 8.7 MB/s eta 0:00:00\n",
      "Requirement already satisfied: numpy<1.28.0,>=1.21.6 in c:\\users\\user\\miniconda3\\lib\\site-packages (from scipy) (1.25.0)\n",
      "Installing collected packages: scipy\n",
      "Successfully installed scipy-1.11.1\n",
      "Note: you may need to restart the kernel to use updated packages.\n"
     ]
    }
   ],
   "source": [
    "pip install scipy"
   ]
  },
  {
   "cell_type": "code",
   "execution_count": 85,
   "metadata": {},
   "outputs": [],
   "source": [
    "from scipy import stats as stats"
   ]
  },
  {
   "cell_type": "code",
   "execution_count": 88,
   "metadata": {},
   "outputs": [
    {
     "name": "stdout",
     "output_type": "stream",
     "text": [
      "Maksimum pendapatan penjual di tokopedia : 9988658.0\n",
      "Minimum pendapatan penjual di tokopedia : 6273945.0\n"
     ]
    }
   ],
   "source": [
    "SD = scrap_tokped['revenue'].std()\n",
    "\n",
    "y = len(scrap_tokped)\n",
    "\n",
    "lower, upper = stats.norm.interval(0.95, loc=scrap_tokped['revenue'].mean(),scale=SD/np.sqrt(y))\n",
    "\n",
    "print('Maksimum pendapatan penjual di tokopedia :', upper.round())\n",
    "print('Minimum pendapatan penjual di tokopedia :',lower.round())"
   ]
  },
  {
   "cell_type": "markdown",
   "metadata": {},
   "source": [
    "Pendapatan Maksimum Penjual Di Tokopedia adalah Rp9.988.658\n",
    "Pendapatan Minimum Penjual Di Tokopedia adalah Rp6.273.945"
   ]
  },
  {
   "cell_type": "markdown",
   "metadata": {},
   "source": [
    "### 3. Meng-kategorikan Lokasi penjual, agar saya bisa tahu apakah lokasi berpengaruh terhadap unit yang terjual ?"
   ]
  },
  {
   "cell_type": "markdown",
   "metadata": {},
   "source": [
    "#### Melihat data dari tabel 'lokasi'"
   ]
  },
  {
   "cell_type": "code",
   "execution_count": 46,
   "metadata": {},
   "outputs": [
    {
     "data": {
      "text/plain": [
       "23"
      ]
     },
     "execution_count": 46,
     "metadata": {},
     "output_type": "execute_result"
    }
   ],
   "source": [
    "scrap_tokped['lokasi'].nunique()"
   ]
  },
  {
   "cell_type": "code",
   "execution_count": 47,
   "metadata": {},
   "outputs": [
    {
     "data": {
      "text/plain": [
       "array(['Bandung', 'Kab. Garut', 'Surabaya', 'Kab. Tangerang',\n",
       "       'Jakarta Barat', 'Tangerang Selatan', 'Jakarta Pusat',\n",
       "       'Kab. Bogor', 'Jakarta Timur', 'Bekasi', 'Surakarta',\n",
       "       'Kab. Bekasi', 'Jakarta Selatan', 'Kab. Bandung',\n",
       "       'Kab. Bandung Barat', 'Tangerang', 'Cimahi', 'Kab.Ciamis', 'Depok',\n",
       "       'Bogor', 'Jakarta Utara', 'Kab. Bantul', 'Semarang'], dtype=object)"
      ]
     },
     "execution_count": 47,
     "metadata": {},
     "output_type": "execute_result"
    }
   ],
   "source": [
    "scrap_tokped['lokasi'].unique()"
   ]
  },
  {
   "cell_type": "markdown",
   "metadata": {},
   "source": [
    "Kategorisasi, untuk membedakan mana yang termaksud dalam Jabodetabek, mana yang tidak"
   ]
  },
  {
   "cell_type": "code",
   "execution_count": 52,
   "metadata": {},
   "outputs": [
    {
     "name": "stderr",
     "output_type": "stream",
     "text": [
      "C:\\Users\\User\\AppData\\Local\\Temp\\ipykernel_14460\\3376296205.py:3: SettingWithCopyWarning: \n",
      "A value is trying to be set on a copy of a slice from a DataFrame.\n",
      "Try using .loc[row_indexer,col_indexer] = value instead\n",
      "\n",
      "See the caveats in the documentation: https://pandas.pydata.org/pandas-docs/stable/user_guide/indexing.html#returning-a-view-versus-a-copy\n",
      "  scrap_tokped['Spesifikasi'] = scrap_tokped['lokasi'].str.contains(jabodetabek, case=False)\n",
      "C:\\Users\\User\\AppData\\Local\\Temp\\ipykernel_14460\\3376296205.py:4: SettingWithCopyWarning: \n",
      "A value is trying to be set on a copy of a slice from a DataFrame.\n",
      "Try using .loc[row_indexer,col_indexer] = value instead\n",
      "\n",
      "See the caveats in the documentation: https://pandas.pydata.org/pandas-docs/stable/user_guide/indexing.html#returning-a-view-versus-a-copy\n",
      "  scrap_tokped['Spesifikasi'] = scrap_tokped['Spesifikasi'].replace({True: 'Jabodetabek', False: 'Luar Jabodetabek'})\n"
     ]
    }
   ],
   "source": [
    "#jabodetabek = 'Jakarta|Jakarta Barat|Jakarta Pusat|Jakarta Timur|Jakarta Selatan|Jakarta Selatan|Bogor|Bekasi|Tangerang|Tangerang Selatan|Depok'\n",
    "jabodetabek = 'Jakarta|Bogor|Bekasi|Tangerang|Depok'\n",
    "scrap_tokped['Spesifikasi'] = scrap_tokped['lokasi'].str.contains(jabodetabek, case=False)\n",
    "scrap_tokped['Spesifikasi'] = scrap_tokped['Spesifikasi'].replace({True: 'Jabodetabek', False: 'Luar Jabodetabek'})\n",
    "\n",
    "daerah_jabodetabek = scrap_tokped[scrap_tokped['Spesifikasi'] == 'Jabodetabek']\n",
    "luar_jabodetabek = scrap_tokped[scrap_tokped['Spesifikasi'] != 'Jabodetabek']"
   ]
  },
  {
   "cell_type": "code",
   "execution_count": 53,
   "metadata": {},
   "outputs": [
    {
     "data": {
      "text/html": [
       "<div>\n",
       "<style scoped>\n",
       "    .dataframe tbody tr th:only-of-type {\n",
       "        vertical-align: middle;\n",
       "    }\n",
       "\n",
       "    .dataframe tbody tr th {\n",
       "        vertical-align: top;\n",
       "    }\n",
       "\n",
       "    .dataframe thead th {\n",
       "        text-align: right;\n",
       "    }\n",
       "</style>\n",
       "<table border=\"1\" class=\"dataframe\">\n",
       "  <thead>\n",
       "    <tr style=\"text-align: right;\">\n",
       "      <th></th>\n",
       "      <th>nama_produk</th>\n",
       "      <th>harga</th>\n",
       "      <th>penjual</th>\n",
       "      <th>lokasi</th>\n",
       "      <th>terjual</th>\n",
       "      <th>rating</th>\n",
       "      <th>Spesifikasi</th>\n",
       "    </tr>\n",
       "  </thead>\n",
       "  <tbody>\n",
       "    <tr>\n",
       "      <th>7</th>\n",
       "      <td>baso aci / seblak instan/ batagor kuah milanial</td>\n",
       "      <td>5999</td>\n",
       "      <td>Suncity.</td>\n",
       "      <td>Kab. Tangerang</td>\n",
       "      <td>2000</td>\n",
       "      <td>4.9</td>\n",
       "      <td>Jabodetabek</td>\n",
       "    </tr>\n",
       "    <tr>\n",
       "      <th>8</th>\n",
       "      <td>seblak instant sajodo snak</td>\n",
       "      <td>19000</td>\n",
       "      <td>hikmah berkah jaya</td>\n",
       "      <td>Jakarta Barat</td>\n",
       "      <td>750</td>\n",
       "      <td>4.8</td>\n",
       "      <td>Jabodetabek</td>\n",
       "    </tr>\n",
       "    <tr>\n",
       "      <th>9</th>\n",
       "      <td>Kerupuk Mawar Bahan Seblak Babangi 250 Gram</td>\n",
       "      <td>7000</td>\n",
       "      <td>Alanza Frozen Food</td>\n",
       "      <td>Tangerang Selatan</td>\n",
       "      <td>17</td>\n",
       "      <td>5.0</td>\n",
       "      <td>Jabodetabek</td>\n",
       "    </tr>\n",
       "    <tr>\n",
       "      <th>10</th>\n",
       "      <td>Seblak Instan Pedas Home Made</td>\n",
       "      <td>3500</td>\n",
       "      <td>the Dhecip</td>\n",
       "      <td>Tangerang Selatan</td>\n",
       "      <td>1000</td>\n",
       "      <td>4.8</td>\n",
       "      <td>Jabodetabek</td>\n",
       "    </tr>\n",
       "    <tr>\n",
       "      <th>11</th>\n",
       "      <td>SEBLAK JELETET MURNI (AJAHH)</td>\n",
       "      <td>26500</td>\n",
       "      <td>Seblak Jeletet Murni</td>\n",
       "      <td>Jakarta Pusat</td>\n",
       "      <td>1000</td>\n",
       "      <td>4.9</td>\n",
       "      <td>Jabodetabek</td>\n",
       "    </tr>\n",
       "  </tbody>\n",
       "</table>\n",
       "</div>"
      ],
      "text/plain": [
       "                                        nama_produk  harga  \\\n",
       "7   baso aci / seblak instan/ batagor kuah milanial   5999   \n",
       "8                        seblak instant sajodo snak  19000   \n",
       "9       Kerupuk Mawar Bahan Seblak Babangi 250 Gram   7000   \n",
       "10                    Seblak Instan Pedas Home Made   3500   \n",
       "11                     SEBLAK JELETET MURNI (AJAHH)  26500   \n",
       "\n",
       "                 penjual             lokasi  terjual  rating  Spesifikasi  \n",
       "7               Suncity.     Kab. Tangerang     2000     4.9  Jabodetabek  \n",
       "8     hikmah berkah jaya      Jakarta Barat      750     4.8  Jabodetabek  \n",
       "9     Alanza Frozen Food  Tangerang Selatan       17     5.0  Jabodetabek  \n",
       "10            the Dhecip  Tangerang Selatan     1000     4.8  Jabodetabek  \n",
       "11  Seblak Jeletet Murni      Jakarta Pusat     1000     4.9  Jabodetabek  "
      ]
     },
     "execution_count": 53,
     "metadata": {},
     "output_type": "execute_result"
    }
   ],
   "source": [
    "# Menunjukan daerah yang termaksud jabodetabek\n",
    "daerah_jabodetabek.head()"
   ]
  },
  {
   "cell_type": "code",
   "execution_count": 91,
   "metadata": {},
   "outputs": [
    {
     "data": {
      "text/html": [
       "<div>\n",
       "<style scoped>\n",
       "    .dataframe tbody tr th:only-of-type {\n",
       "        vertical-align: middle;\n",
       "    }\n",
       "\n",
       "    .dataframe tbody tr th {\n",
       "        vertical-align: top;\n",
       "    }\n",
       "\n",
       "    .dataframe thead th {\n",
       "        text-align: right;\n",
       "    }\n",
       "</style>\n",
       "<table border=\"1\" class=\"dataframe\">\n",
       "  <thead>\n",
       "    <tr style=\"text-align: right;\">\n",
       "      <th></th>\n",
       "      <th>nama_produk</th>\n",
       "      <th>harga</th>\n",
       "      <th>penjual</th>\n",
       "      <th>lokasi</th>\n",
       "      <th>terjual</th>\n",
       "      <th>rating</th>\n",
       "      <th>Spesifikasi</th>\n",
       "    </tr>\n",
       "  </thead>\n",
       "  <tbody>\n",
       "    <tr>\n",
       "      <th>3</th>\n",
       "      <td>SEBLAK JUARA INSTAN MASAK BASAH ASLI BANDUNG E...</td>\n",
       "      <td>22000</td>\n",
       "      <td>Rasa Juara Indonesia</td>\n",
       "      <td>Bandung</td>\n",
       "      <td>750</td>\n",
       "      <td>4.9</td>\n",
       "      <td>Luar Jabodetabek</td>\n",
       "    </tr>\n",
       "    <tr>\n",
       "      <th>4</th>\n",
       "      <td>MASJAY Seblak Bumbu Membara Instant - No.1 Str...</td>\n",
       "      <td>15000</td>\n",
       "      <td>Lidigeli</td>\n",
       "      <td>Kab. Garut</td>\n",
       "      <td>70</td>\n",
       "      <td>5.0</td>\n",
       "      <td>Luar Jabodetabek</td>\n",
       "    </tr>\n",
       "    <tr>\n",
       "      <th>6</th>\n",
       "      <td>Termurah Kerupuk Mentah-Kerupuk Seblak-Kerupuk...</td>\n",
       "      <td>6000</td>\n",
       "      <td>Djuragan Kerupuk</td>\n",
       "      <td>Surabaya</td>\n",
       "      <td>50</td>\n",
       "      <td>5.0</td>\n",
       "      <td>Luar Jabodetabek</td>\n",
       "    </tr>\n",
       "    <tr>\n",
       "      <th>27</th>\n",
       "      <td>SEBRING KRUPUK KERUPUK SEBLAK KERING PEDAS DAU...</td>\n",
       "      <td>16000</td>\n",
       "      <td>Aydaa Snack</td>\n",
       "      <td>Surakarta</td>\n",
       "      <td>40</td>\n",
       "      <td>4.9</td>\n",
       "      <td>Luar Jabodetabek</td>\n",
       "    </tr>\n",
       "    <tr>\n",
       "      <th>40</th>\n",
       "      <td>Kerupuk Aci Mawar | Kerupuk Mawar Putih | Sebl...</td>\n",
       "      <td>7999</td>\n",
       "      <td>Toko NRV Plastik dan Bahan Kue</td>\n",
       "      <td>Bandung</td>\n",
       "      <td>100</td>\n",
       "      <td>5.0</td>\n",
       "      <td>Luar Jabodetabek</td>\n",
       "    </tr>\n",
       "  </tbody>\n",
       "</table>\n",
       "</div>"
      ],
      "text/plain": [
       "                                          nama_produk  harga  \\\n",
       "3   SEBLAK JUARA INSTAN MASAK BASAH ASLI BANDUNG E...  22000   \n",
       "4   MASJAY Seblak Bumbu Membara Instant - No.1 Str...  15000   \n",
       "6   Termurah Kerupuk Mentah-Kerupuk Seblak-Kerupuk...   6000   \n",
       "27  SEBRING KRUPUK KERUPUK SEBLAK KERING PEDAS DAU...  16000   \n",
       "40  Kerupuk Aci Mawar | Kerupuk Mawar Putih | Sebl...   7999   \n",
       "\n",
       "                           penjual      lokasi  terjual  rating  \\\n",
       "3             Rasa Juara Indonesia     Bandung      750     4.9   \n",
       "4                         Lidigeli  Kab. Garut       70     5.0   \n",
       "6                 Djuragan Kerupuk    Surabaya       50     5.0   \n",
       "27                     Aydaa Snack   Surakarta       40     4.9   \n",
       "40  Toko NRV Plastik dan Bahan Kue     Bandung      100     5.0   \n",
       "\n",
       "         Spesifikasi  \n",
       "3   Luar Jabodetabek  \n",
       "4   Luar Jabodetabek  \n",
       "6   Luar Jabodetabek  \n",
       "27  Luar Jabodetabek  \n",
       "40  Luar Jabodetabek  "
      ]
     },
     "execution_count": 91,
     "metadata": {},
     "output_type": "execute_result"
    }
   ],
   "source": [
    "# Menunjukan daerah yang termaksud luar jabodetabek\n",
    "luar_jabodetabek.head()"
   ]
  },
  {
   "cell_type": "markdown",
   "metadata": {},
   "source": [
    "Asusmsi:\n",
    "\n",
    "H0 = Tidak ada korelasi atau hubungan antara spesifikasi lokasi dengan unit terjual\n",
    "\n",
    "H1 = Ada korelasi atau hubungan antara spesifikasi lokasi dengan unit terjual\n",
    "\n",
    "Untuk testing asumsi mengenai hubungan antara lokasi dan unit yang terjual ini, kita akan menghitung p-value dah spearman (rho). \n",
    "\n",
    "Saya menggunakan rho karena \"It does not assume aspecific distribution for the data and is appropriate for variables that may not have a linear relationship.\""
   ]
  },
  {
   "cell_type": "code",
   "execution_count": 90,
   "metadata": {},
   "outputs": [
    {
     "name": "stdout",
     "output_type": "stream",
     "text": [
      "rho-correlation: -0.25\n",
      "p-value: 1.3043264573126345e-06\n"
     ]
    }
   ],
   "source": [
    "corr_rho, pval_s = stats.spearmanr(scrap_tokped['terjual'], scrap_tokped['Spesifikasi'])\n",
    "print(f\"rho-correlation: {corr_rho:.2f}\")\n",
    "print(f\"p-value: {pval_s}\")"
   ]
  },
  {
   "cell_type": "markdown",
   "metadata": {},
   "source": [
    "rho-correlation: -0.25 , menandakan hubungan antara variabel itu lemah\n",
    "\n",
    "p-value: 1.30 , menandakan adanya korelasi yang sifnifikan antara kedua variabel\n",
    "\n",
    "Melihat hasil data di atas, bisa di artikan bahwa kita gagal menolak H0, dan bisa di bilang juga bahwa tidak ada korelasi atau hubungan antara spesifikasi lokasi dengan unit terjual"
   ]
  },
  {
   "cell_type": "markdown",
   "metadata": {},
   "source": [
    "### 4. Apakah banyak pembeli (unit terjual) cenderung memiliki rating yang tinggi ?"
   ]
  },
  {
   "cell_type": "markdown",
   "metadata": {},
   "source": [
    "Asusmsi:\n",
    "H0 = Tidak ada korelasi atau hubungan antara jumlah pembeli (unit terjual) dengan rating\n",
    "\n",
    "H1 = Ada korelasi atau hubungan antara jumlah pembeli (unit terjual) dengan rating\n",
    "\n",
    "Untuk testing asumsi mengenai hubungan antara antara jumlah pembeli (unit terjual) dengan rating ini, kita akan menghitung p-value dah spearman (rho). \n",
    "\n",
    "Saya menggunakan rho karena \"It does not assume aspecific distribution for the data and is appropriate for variables that may not have a linear relationship.\""
   ]
  },
  {
   "cell_type": "code",
   "execution_count": 92,
   "metadata": {},
   "outputs": [
    {
     "name": "stdout",
     "output_type": "stream",
     "text": [
      "rho-correlation: -0.27\n",
      "p-value: 2.373094829098295e-07\n"
     ]
    }
   ],
   "source": [
    "corr_rho, pval_s = stats.spearmanr(scrap_tokped['terjual'], scrap_tokped['rating'])\n",
    "print(f\"rho-correlation: {corr_rho:.2f}\")\n",
    "print(f\"p-value: {pval_s}\")"
   ]
  },
  {
   "cell_type": "markdown",
   "metadata": {},
   "source": [
    "rho-correlation: -0.27 , menandakan hubungan antara variabel itu lemah\n",
    "\n",
    "p-value: 2.37 , menandakan adanya korelasi yang tinggi/signifikan antara kedua variabel\n",
    "\n",
    "Melihat hasil data di atas, bisa di artikan bahwa kita gagal menolak H0, dan bisa di bilang juga bahwa tidak ada korelasi atau hubungan antara antara jumlah pembeli (unit terjual) dengan rating"
   ]
  },
  {
   "cell_type": "markdown",
   "metadata": {},
   "source": [
    "## E. Conclusion"
   ]
  },
  {
   "cell_type": "markdown",
   "metadata": {},
   "source": [
    "- Rata-rata seblak yang terjual adalah 1042 pcs, ini menunjukan bahwa seblak memiliki peminat yang tinggi.\n",
    "\n",
    "- Pendapatan Maksimum Penjual Di Tokopedia adalah Rp9.988.658, sedangkan Pendapatan Minimum Penjual Di Tokopedia adalah Rp6.273.945\n",
    "\n",
    "- Tidak ada korelasi antara lokasi penjualan, mau itu di jabodetabek atau di luar jabodetabek dengan penjualan (unit yang terjual)\n",
    "\n",
    "- Tidak ditemukan korelasi/hubungan antara banyak nya pembeli (unit yang terjual) dengan rating, bisa di artikan bahwa jumlah pembelian yang banyak belum tentu menghasilkan pelanggan yang puas."
   ]
  }
 ],
 "metadata": {
  "kernelspec": {
   "display_name": "base",
   "language": "python",
   "name": "python3"
  },
  "language_info": {
   "codemirror_mode": {
    "name": "ipython",
    "version": 3
   },
   "file_extension": ".py",
   "mimetype": "text/x-python",
   "name": "python",
   "nbconvert_exporter": "python",
   "pygments_lexer": "ipython3",
   "version": "3.11.4"
  }
 },
 "nbformat": 4,
 "nbformat_minor": 2
}
